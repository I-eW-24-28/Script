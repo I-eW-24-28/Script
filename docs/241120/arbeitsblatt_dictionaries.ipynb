{
 "cells": [
  {
   "cell_type": "markdown",
   "metadata": {},
   "source": [
    "# Anwendungsbeispiele für Python Dictionaries"
   ]
  },
  {
   "cell_type": "markdown",
   "metadata": {},
   "source": [
    "Gegeben sei die folgende Notenzusammenstellung im Fach Mathematik:"
   ]
  },
  {
   "cell_type": "markdown",
   "metadata": {},
   "source": [
    "| Datum | Note | Thema |\n",
    "| --- | --- | :--- |\n",
    "| 240920 | 4.5 | lineare Gleichungen |\n",
    "| 241028 | 4.3 | quadratische Gleichungen |\n",
    "| 241119 | 5.2 | Kurvendiskussion |\n"
   ]
  },
  {
   "cell_type": "markdown",
   "metadata": {},
   "source": [
    "Überführen Sie diese Tabelle in ein Python Dictionary `noten_m`."
   ]
  },
  {
   "cell_type": "code",
   "execution_count": 1,
   "metadata": {},
   "outputs": [],
   "source": [
    "noten_m = {\n",
    "    240920: [4.5, 'lineare Gleichungen'],\n",
    "    241028: [4.3, 'quadratische Gleichungen'],\n",
    "    241119: [5.2, 'Kurvendiskussion'],\n",
    "}"
   ]
  },
  {
   "cell_type": "markdown",
   "metadata": {},
   "source": [
    "\n",
    "Erstellen Sie ein Python Dictionary `franz` mit Ihren Französischnoten. Als *key* soll dabei das Datum der Prüfung in der Form YYMMDD dienen, als Value die erzielte Note."
   ]
  },
  {
   "cell_type": "code",
   "execution_count": 8,
   "metadata": {},
   "outputs": [],
   "source": [
    "franz = {\n",
    "    240916: 4.5,\n",
    "    241023: 4.0,\n",
    "    241113: 4.3,\n",
    "}"
   ]
  },
  {
   "cell_type": "markdown",
   "metadata": {},
   "source": [
    "Geben Sie die erfassten Noten mit Hilfe eines for-loop aus."
   ]
  },
  {
   "cell_type": "code",
   "execution_count": 2,
   "metadata": {},
   "outputs": [
    {
     "name": "stdout",
     "output_type": "stream",
     "text": [
      "4.5\n",
      "4\n",
      "4.3\n"
     ]
    }
   ],
   "source": [
    "for key in franz:\n",
    "    print(franz[key])"
   ]
  },
  {
   "cell_type": "markdown",
   "metadata": {},
   "source": [
    "Berechnen Sie den Durchschnitt der Noten. Verwenden Sie dazu ebenfalls einen for-loop und weisen Sie das Resultat der Variabel `franz_mittelwert` zu."
   ]
  },
  {
   "cell_type": "code",
   "execution_count": 11,
   "metadata": {},
   "outputs": [
    {
     "data": {
      "text/plain": [
       "4.266666666666667"
      ]
     },
     "execution_count": 11,
     "metadata": {},
     "output_type": "execute_result"
    }
   ],
   "source": [
    "franz_sum = 0\n",
    "\n",
    "for item, value in franz.items():\n",
    "    franz_sum += value\n",
    "    \n",
    "franz_mittelwert = franz_sum / len(franz)\n",
    "franz_mittelwert"
   ]
  },
  {
   "cell_type": "code",
   "execution_count": 4,
   "metadata": {},
   "outputs": [
    {
     "data": {
      "text/plain": [
       "3"
      ]
     },
     "execution_count": 4,
     "metadata": {},
     "output_type": "execute_result"
    }
   ],
   "source": [
    "len(franz)"
   ]
  },
  {
   "cell_type": "code",
   "execution_count": null,
   "metadata": {},
   "outputs": [],
   "source": []
  }
 ],
 "metadata": {
  "kernelspec": {
   "display_name": "venv",
   "language": "python",
   "name": "python3"
  },
  "language_info": {
   "codemirror_mode": {
    "name": "ipython",
    "version": 3
   },
   "file_extension": ".py",
   "mimetype": "text/x-python",
   "name": "python",
   "nbconvert_exporter": "python",
   "pygments_lexer": "ipython3",
   "version": "3.13.0"
  }
 },
 "nbformat": 4,
 "nbformat_minor": 2
}
