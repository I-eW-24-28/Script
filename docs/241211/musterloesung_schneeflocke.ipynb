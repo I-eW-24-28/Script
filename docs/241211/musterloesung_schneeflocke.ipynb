{
 "cells": [
  {
   "cell_type": "markdown",
   "metadata": {},
   "source": [
    "# Anwendungsübung zur Rekursion\n",
    "\n",
    "In diesem Notebook soll eine graphische Anwendung einer rekursiven Funktion\n",
    "implementiert werden. Als Grafiklibrary wird PyTamaro verwendet. In der\n",
    "folgenden Code Zelle werden die erforderlichen Funktionen geladen."
   ]
  },
  {
   "cell_type": "code",
   "execution_count": 1,
   "metadata": {},
   "outputs": [],
   "source": [
    "# Import der erforderlichen PyTamaro Funktionen\n",
    "from pytamaro import (\n",
    "    rectangle, Graphic, Empty,\n",
    "    black,\n",
    "    pin, bottom_left, bottom_right, top_left, top_right, bottom_center,\n",
    "    rotate, graphic_height, overlay,\n",
    "    show_graphic, save_graphic,\n",
    ")\n",
    "\n",
    "from pytamaro.de import kombiniere"
   ]
  },
  {
   "cell_type": "markdown",
   "metadata": {},
   "source": [
    "Im folgenden soll es darum gehen diese Scheneeflocke\n",
    "\n",
    "![Schneeflocke](snwo_flake.svg)\n",
    "\n",
    "aus Elementen, wie dem folgenden\n",
    "\n",
    "![Basiselement](basiselement.svg) \n",
    "\n",
    "zusammenzubauen.\n",
    "\n",
    "Dabei ist die Grundkomponente offensichtlich eine kurze Gerade."
   ]
  },
  {
   "cell_type": "code",
   "execution_count": 2,
   "metadata": {},
   "outputs": [
    {
     "data": {
      "image/png": "[encoded data removed]",
      "text/plain": [
       "<PIL.Image.Image image mode=RGBA size=50x4>"
      ]
     },
     "metadata": {},
     "output_type": "display_data"
    }
   ],
   "source": [
    "def draw_line(length: float) -> Graphic:\n",
    "    width = length * 0.075\n",
    "    return rectangle(length, width, black)\n",
    "\n",
    "show_graphic(draw_line(50))"
   ]
  },
  {
   "cell_type": "code",
   "execution_count": 3,
   "metadata": {},
   "outputs": [
    {
     "data": {
      "image/png": "[encoded data removed]",
      "text/plain": [
       "<PIL.Image.Image image mode=RGBA size=56x90>"
      ]
     },
     "metadata": {},
     "output_type": "display_data"
    }
   ],
   "source": [
    "testline = draw_line(100)\n",
    "show_graphic(rotate(60, testline))"
   ]
  },
  {
   "cell_type": "markdown",
   "metadata": {},
   "source": [
    "Aus dieser kurzen Geraden, kann ein einzelner Zacken zusammengebaut werden."
   ]
  },
  {
   "cell_type": "code",
   "execution_count": 4,
   "metadata": {},
   "outputs": [
    {
     "data": {
      "image/png": "[encoded data removed]",
      "text/plain": [
       "<PIL.Image.Image image mode=RGBA size=313x90>"
      ]
     },
     "metadata": {},
     "output_type": "display_data"
    }
   ],
   "source": [
    "def compose_element(element: Graphic) -> Graphic:\n",
    "    first_quarter = pin(bottom_right, element)\n",
    "    second_quarter = pin(bottom_left, rotate(60, element))\n",
    "    half = kombiniere(first_quarter, second_quarter)\n",
    "    third_quarter = pin(bottom_left, rotate(-60, element))\n",
    "    half = pin(bottom_right, half)\n",
    "    three_quarter = kombiniere(half, third_quarter)\n",
    "    fourth_quarter = pin(bottom_left, element)\n",
    "    three_quarter = pin(bottom_right, three_quarter)\n",
    "    return kombiniere(three_quarter, fourth_quarter)\n",
    "\n",
    "basiselement = compose_element(testline)\n",
    "# save_graphic('basiselement.svg', basiselement)\n",
    "show_graphic(basiselement)"
   ]
  },
  {
   "cell_type": "markdown",
   "metadata": {},
   "source": [
    "Aus diesem einzelnen Zacken ist als nächstes ein fein gezahnte Element zu bauen.\n",
    "Der Funktion soll als Argument die Rekutsionstiefe übergeben werden. Die vorher\n",
    "programmierten Funktionen können als Hilfsfunktionen aufgerufen werden."
   ]
  },
  {
   "cell_type": "code",
   "execution_count": 5,
   "metadata": {},
   "outputs": [
    {
     "data": {
      "image/png": "[encoded data removed]",
      "text/plain": [
       "<PIL.Image.Image image mode=RGBA size=184x213>"
      ]
     },
     "metadata": {},
     "output_type": "display_data"
    }
   ],
   "source": [
    "def draw_zahnung(n: int, m = 1) -> Graphic:\n",
    "    BASE_LENGTH = 100\n",
    "    if n == 1:\n",
    "        part = draw_line(BASE_LENGTH / (m**2.5))\n",
    "        element = compose_element(part)\n",
    "        return element\n",
    "    else:\n",
    "        m += 1        \n",
    "        return compose_element(draw_zahnung(n-1, m))\n",
    "    \n",
    "top_side = draw_zahnung(3)\n",
    "right_side = rotate(240, top_side)\n",
    "left_side = rotate(120, top_side)\n",
    "top_side = pin(bottom_left, top_side)\n",
    "left_side = pin(top_left, left_side)\n",
    "stern = kombiniere(top_side, left_side)\n",
    "stern = pin(bottom_center, stern)\n",
    "right_side = pin(bottom_left, right_side)\n",
    "stern = kombiniere(stern, right_side)\n",
    "show_graphic(stern)\n",
    "# x = graphic_height(stern)\n",
    "# show_graphic(draw_line(x))\n",
    "        "
   ]
  },
  {
   "cell_type": "markdown",
   "metadata": {},
   "source": [
    "Die so gezeichnete gezahnte Linie bildet die Basis einer Schneeflocke.\n",
    "Implementieren Sie eine Funktion zum zeichnen einer Schneeflocke. Der Funktion\n",
    "soll die Rekursionstiefe als Argument übergeben werden können."
   ]
  },
  {
   "cell_type": "code",
   "execution_count": 7,
   "metadata": {},
   "outputs": [
    {
     "data": {
      "image/png": "[encoded data removed]",
      "text/plain": [
       "<PIL.Image.Image image mode=RGBA size=184x213>"
      ]
     },
     "metadata": {},
     "output_type": "display_data"
    }
   ],
   "source": [
    "def create_snow_flake(n: int) -> Graphic:\n",
    "    zahnung = draw_zahnung(3)\n",
    "    top_side = zahnung\n",
    "    right_side = rotate(240, top_side)\n",
    "    left_side = rotate(120, top_side)\n",
    "    top_side = pin(bottom_left, top_side)\n",
    "    left_side = pin(top_left, left_side)\n",
    "    stern = kombiniere(top_side, left_side)\n",
    "    stern = pin(bottom_center, stern)\n",
    "    right_side = pin(bottom_left, right_side)\n",
    "    stern = kombiniere(stern, right_side)\n",
    "    \n",
    "    spine_length = graphic_height(stern) * 0.8\n",
    "    spine = rectangle((spine_length * 0.005/n), spine_length, black)\n",
    "    for i in range(0,180,60):\n",
    "        spine = overlay(spine, rotate(i, spine))\n",
    "        \n",
    "    stern = overlay(spine, stern)\n",
    "        \n",
    "    return stern\n",
    "\n",
    "snow_flake = create_snow_flake(4)\n",
    "save_graphic('snwo_flake.svg', snow_flake)\n",
    "\n",
    "show_graphic(snow_flake)"
   ]
  },
  {
   "cell_type": "code",
   "execution_count": null,
   "metadata": {},
   "outputs": [],
   "source": []
  }
 ],
 "metadata": {
  "kernelspec": {
   "display_name": ".venv",
   "language": "python",
   "name": "python3"
  },
  "language_info": {
   "codemirror_mode": {
    "name": "ipython",
    "version": 3
   },
   "file_extension": ".py",
   "mimetype": "text/x-python",
   "name": "python",
   "nbconvert_exporter": "python",
   "pygments_lexer": "ipython3",
   "version": "3.12.6"
  }
 },
 "nbformat": 4,
 "nbformat_minor": 2
}
