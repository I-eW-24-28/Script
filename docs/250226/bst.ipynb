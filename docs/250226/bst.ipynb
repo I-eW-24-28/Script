{
  "cells": [
    {
      "cell_type": "markdown",
      "metadata": {
        "id": "evXPxE46SWOA"
      },
      "source": [
        "# Binary Search Tree"
      ]
    },
    {
      "cell_type": "markdown",
      "metadata": {
        "id": "H4-MNaXuSax_"
      },
      "source": [
        "## Klasse Node für BST"
      ]
    },
    {
      "cell_type": "code",
      "execution_count": 1,
      "metadata": {
        "id": "fSJRGZH6SAVF"
      },
      "outputs": [],
      "source": [
        "class BSTNode:\n",
        "    def __init__(self, key, value=None):\n",
        "        self.key    = key\n",
        "        self.value  = value\n",
        "        self.parent = None\n",
        "        self.left   = None\n",
        "        self.right  = None\n",
        "        \n",
        "    def __str__(self):\n",
        "        key = str(self.key)\n",
        "        parent = 'None' if self.parent is None else str(self.parent.key)\n",
        "        left = 'None' if self.left is None else str(self.left.key)\n",
        "        right = 'None' if self.right is None else str(self.right.key)\n",
        "        s = (\n",
        "            f'\\tParent = {parent}\\n'\n",
        "            f'\\tKey = {key}\\n'\n",
        "            f'Left = {left}\\tRight = {right}'\n",
        "        )\n",
        "        return s"
      ]
    },
    {
      "cell_type": "markdown",
      "metadata": {
        "id": "vk_k7bWRcl0F"
      },
      "source": [
        "## Klasse für BST"
      ]
    },
    {
      "cell_type": "code",
      "execution_count": null,
      "metadata": {
        "id": "7SlrEOy3W01y"
      },
      "outputs": [],
      "source": [
        "class BST:\n",
        "    def __init__(self):\n",
        "        self.root = None\n",
        "\n",
        "    def insert(self, key, value=None):\n",
        "        node = BSTNode(key, value)\n",
        "        # Variante 0 -> node ist root\n",
        "        if self.root is None:\n",
        "            self.root = node\n",
        "            return\n",
        "        # Variante 1a -> node < root & root.left is None\n",
        "        if key < self.root.key and self.root.left is None:\n",
        "            node.parent = self.root\n",
        "            self.root.left = node\n",
        "        # Variante 1b -> node < root & root.left ist besetzt\n",
        "        # Variante 2a -> node > root & root.right is None\n",
        "\n",
        "        # Variante 2b -> node > root & root.right ist besetzt\n",
        "        pass"
      ]
    }
  ],
  "metadata": {
    "colab": {
      "provenance": []
    },
    "kernelspec": {
      "display_name": "venv",
      "language": "python",
      "name": "python3"
    },
    "language_info": {
      "codemirror_mode": {
        "name": "ipython",
        "version": 3
      },
      "file_extension": ".py",
      "mimetype": "text/x-python",
      "name": "python",
      "nbconvert_exporter": "python",
      "pygments_lexer": "ipython3",
      "version": "3.13.1"
    }
  },
  "nbformat": 4,
  "nbformat_minor": 0
}
