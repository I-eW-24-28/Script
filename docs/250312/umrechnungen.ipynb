{
 "cells": [
  {
   "cell_type": "markdown",
   "metadata": {},
   "source": [
    "# Python Funktionen zum Umrechnen zwichen den Zahlensystemen"
   ]
  },
  {
   "cell_type": "markdown",
   "metadata": {},
   "source": [
    "Python stellt Funktionen zur Verfügung, mit deren Hilfe Zahlen zwischen den\n",
    "verschiedenen Zahlensystemen umgerechnet werden können. Trotzdem sollen in\n",
    "diesem Notebook eigene Funktionen implementiert werden, mit deren Hilfe Zahlen\n",
    "zwischen dem Dezimal- und Binärsystem umgerechnet werden können.\n",
    "\n",
    "Ausserdem sollen Funktionen implementiert werden, mit welchen Strings in ihre\n",
    "binäre Repräsentation umgewandelt werden können und umgekehrt."
   ]
  },
  {
   "cell_type": "markdown",
   "metadata": {},
   "source": [
    "## Umrehnung von Binär- in Dezimalzahlen"
   ]
  },
  {
   "cell_type": "code",
   "execution_count": null,
   "metadata": {},
   "outputs": [],
   "source": [
    "def bin2dec(binary: str) -> int:\n",
    "    decimal = 0\n",
    "    length = len(binary)\n",
    "    \n",
    "    for i in range(1, length + 1):\n",
    "        decimal += int(binary[-i]) * 2 ** (i-1)\n",
    "        \n",
    "    return decimal\n",
    "        "
   ]
  },
  {
   "cell_type": "code",
   "execution_count": null,
   "metadata": {},
   "outputs": [],
   "source": []
  }
 ],
 "metadata": {
  "kernelspec": {
   "display_name": "venv",
   "language": "python",
   "name": "python3"
  },
  "language_info": {
   "codemirror_mode": {
    "name": "ipython",
    "version": 3
   },
   "file_extension": ".py",
   "mimetype": "text/x-python",
   "name": "python",
   "nbconvert_exporter": "python",
   "pygments_lexer": "ipython3",
   "version": "3.13.1"
  }
 },
 "nbformat": 4,
 "nbformat_minor": 2
}
